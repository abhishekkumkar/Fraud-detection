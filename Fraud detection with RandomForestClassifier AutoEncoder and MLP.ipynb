{
  "nbformat": 4,
  "nbformat_minor": 0,
  "metadata": {
    "colab": {
      "name": "DL_DA2",
      "provenance": [],
      "collapsed_sections": []
    },
    "kernelspec": {
      "name": "python3",
      "display_name": "Python 3"
    }
  },
  "cells": [
    {
      "cell_type": "code",
      "metadata": {
        "id": "wAVAfGjdYBec",
        "colab_type": "code",
        "colab": {}
      },
      "source": [
        "!pip install -U -q kaggle\n",
        "!mkdir -p ~/.kaggle"
      ],
      "execution_count": 0,
      "outputs": []
    },
    {
      "cell_type": "code",
      "metadata": {
        "id": "pkvCF8WSYKXU",
        "colab_type": "code",
        "outputId": "1caea146-1fa6-4257-decb-6cdec0362c54",
        "colab": {
          "resources": {
            "http://localhost:8080/nbextensions/google.colab/files.js": {
              "data": "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",
              "ok": true,
              "headers": [
                [
                  "content-type",
                  "application/javascript"
                ]
              ],
              "status": 200,
              "status_text": ""
            }
          },
          "base_uri": "https://localhost:8080/",
          "height": 93
        }
      },
      "source": [
        "from google.colab import files\n",
        "files.upload()"
      ],
      "execution_count": 0,
      "outputs": [
        {
          "output_type": "display_data",
          "data": {
            "text/html": [
              "\n",
              "     <input type=\"file\" id=\"files-6a633caf-3547-4246-b9e5-043bd88f1aac\" name=\"files[]\" multiple disabled />\n",
              "     <output id=\"result-6a633caf-3547-4246-b9e5-043bd88f1aac\">\n",
              "      Upload widget is only available when the cell has been executed in the\n",
              "      current browser session. Please rerun this cell to enable.\n",
              "      </output>\n",
              "      <script src=\"/nbextensions/google.colab/files.js\"></script> "
            ],
            "text/plain": [
              "<IPython.core.display.HTML object>"
            ]
          },
          "metadata": {
            "tags": []
          }
        },
        {
          "output_type": "stream",
          "text": [
            "Saving kaggle.json to kaggle.json\n"
          ],
          "name": "stdout"
        },
        {
          "output_type": "execute_result",
          "data": {
            "text/plain": [
              "{'kaggle.json': b'{\"username\":\"abhishekkumkar\",\"key\":\"a6d1e02431823f7f3a164cfd3488bad1\"}'}"
            ]
          },
          "metadata": {
            "tags": []
          },
          "execution_count": 4
        }
      ]
    },
    {
      "cell_type": "code",
      "metadata": {
        "id": "TEo8cjKjYmyC",
        "colab_type": "code",
        "colab": {}
      },
      "source": [
        "!cp kaggle.json ~/.kaggle/"
      ],
      "execution_count": 0,
      "outputs": []
    },
    {
      "cell_type": "code",
      "metadata": {
        "id": "b0rc-v2oY48S",
        "colab_type": "code",
        "outputId": "d10d6234-f7d4-4058-d5ed-4b3ebf598b86",
        "colab": {
          "base_uri": "https://localhost:8080/",
          "height": 87
        }
      },
      "source": [
        "!kaggle datasets download -d mlg-ulb/creditcardfraud"
      ],
      "execution_count": 0,
      "outputs": [
        {
          "output_type": "stream",
          "text": [
            "Warning: Your Kaggle API key is readable by other users on this system! To fix this, you can run 'chmod 600 /root/.kaggle/kaggle.json'\n",
            "Downloading creditcardfraud.zip to /content\n",
            " 74% 49.0M/66.0M [00:00<00:00, 64.5MB/s]\n",
            "100% 66.0M/66.0M [00:00<00:00, 90.2MB/s]\n"
          ],
          "name": "stdout"
        }
      ]
    },
    {
      "cell_type": "code",
      "metadata": {
        "id": "DQV-ebHTZC4S",
        "colab_type": "code",
        "outputId": "4dc31457-5525-4fcd-dbf0-3f56242fa176",
        "colab": {
          "base_uri": "https://localhost:8080/",
          "height": 52
        }
      },
      "source": [
        "!unzip /content/creditcardfraud.zip "
      ],
      "execution_count": 0,
      "outputs": [
        {
          "output_type": "stream",
          "text": [
            "Archive:  /content/creditcardfraud.zip\n",
            "  inflating: creditcard.csv          \n"
          ],
          "name": "stdout"
        }
      ]
    },
    {
      "cell_type": "code",
      "metadata": {
        "id": "jrf2Movuept3",
        "colab_type": "code",
        "colab": {}
      },
      "source": [
        "import numpy as np \n",
        "import pandas as pd \n",
        "import matplotlib.pyplot as plt \n",
        "import seaborn as sns "
      ],
      "execution_count": 0,
      "outputs": []
    },
    {
      "cell_type": "code",
      "metadata": {
        "id": "45LDaqT9e6eG",
        "colab_type": "code",
        "colab": {}
      },
      "source": [
        "path =\"/content/drive/My Drive/Datasets/creditcard.csv\"\n",
        "data = pd.read_csv(path) "
      ],
      "execution_count": 0,
      "outputs": []
    },
    {
      "cell_type": "code",
      "metadata": {
        "id": "M3gzmYrWfBum",
        "colab_type": "code",
        "outputId": "45c1702a-9242-4f89-a1f6-d9c84d1eacc5",
        "colab": {
          "base_uri": "https://localhost:8080/",
          "height": 215
        }
      },
      "source": [
        "data.head() "
      ],
      "execution_count": 0,
      "outputs": [
        {
          "output_type": "execute_result",
          "data": {
            "text/html": [
              "<div>\n",
              "<style scoped>\n",
              "    .dataframe tbody tr th:only-of-type {\n",
              "        vertical-align: middle;\n",
              "    }\n",
              "\n",
              "    .dataframe tbody tr th {\n",
              "        vertical-align: top;\n",
              "    }\n",
              "\n",
              "    .dataframe thead th {\n",
              "        text-align: right;\n",
              "    }\n",
              "</style>\n",
              "<table border=\"1\" class=\"dataframe\">\n",
              "  <thead>\n",
              "    <tr style=\"text-align: right;\">\n",
              "      <th></th>\n",
              "      <th>Time</th>\n",
              "      <th>V1</th>\n",
              "      <th>V2</th>\n",
              "      <th>V3</th>\n",
              "      <th>V4</th>\n",
              "      <th>V5</th>\n",
              "      <th>V6</th>\n",
              "      <th>V7</th>\n",
              "      <th>V8</th>\n",
              "      <th>V9</th>\n",
              "      <th>V10</th>\n",
              "      <th>V11</th>\n",
              "      <th>V12</th>\n",
              "      <th>V13</th>\n",
              "      <th>V14</th>\n",
              "      <th>V15</th>\n",
              "      <th>V16</th>\n",
              "      <th>V17</th>\n",
              "      <th>V18</th>\n",
              "      <th>V19</th>\n",
              "      <th>V20</th>\n",
              "      <th>V21</th>\n",
              "      <th>V22</th>\n",
              "      <th>V23</th>\n",
              "      <th>V24</th>\n",
              "      <th>V25</th>\n",
              "      <th>V26</th>\n",
              "      <th>V27</th>\n",
              "      <th>V28</th>\n",
              "      <th>Amount</th>\n",
              "      <th>Class</th>\n",
              "    </tr>\n",
              "  </thead>\n",
              "  <tbody>\n",
              "    <tr>\n",
              "      <th>0</th>\n",
              "      <td>0.0</td>\n",
              "      <td>-1.359807</td>\n",
              "      <td>-0.072781</td>\n",
              "      <td>2.536347</td>\n",
              "      <td>1.378155</td>\n",
              "      <td>-0.338321</td>\n",
              "      <td>0.462388</td>\n",
              "      <td>0.239599</td>\n",
              "      <td>0.098698</td>\n",
              "      <td>0.363787</td>\n",
              "      <td>0.090794</td>\n",
              "      <td>-0.551600</td>\n",
              "      <td>-0.617801</td>\n",
              "      <td>-0.991390</td>\n",
              "      <td>-0.311169</td>\n",
              "      <td>1.468177</td>\n",
              "      <td>-0.470401</td>\n",
              "      <td>0.207971</td>\n",
              "      <td>0.025791</td>\n",
              "      <td>0.403993</td>\n",
              "      <td>0.251412</td>\n",
              "      <td>-0.018307</td>\n",
              "      <td>0.277838</td>\n",
              "      <td>-0.110474</td>\n",
              "      <td>0.066928</td>\n",
              "      <td>0.128539</td>\n",
              "      <td>-0.189115</td>\n",
              "      <td>0.133558</td>\n",
              "      <td>-0.021053</td>\n",
              "      <td>149.62</td>\n",
              "      <td>0</td>\n",
              "    </tr>\n",
              "    <tr>\n",
              "      <th>1</th>\n",
              "      <td>0.0</td>\n",
              "      <td>1.191857</td>\n",
              "      <td>0.266151</td>\n",
              "      <td>0.166480</td>\n",
              "      <td>0.448154</td>\n",
              "      <td>0.060018</td>\n",
              "      <td>-0.082361</td>\n",
              "      <td>-0.078803</td>\n",
              "      <td>0.085102</td>\n",
              "      <td>-0.255425</td>\n",
              "      <td>-0.166974</td>\n",
              "      <td>1.612727</td>\n",
              "      <td>1.065235</td>\n",
              "      <td>0.489095</td>\n",
              "      <td>-0.143772</td>\n",
              "      <td>0.635558</td>\n",
              "      <td>0.463917</td>\n",
              "      <td>-0.114805</td>\n",
              "      <td>-0.183361</td>\n",
              "      <td>-0.145783</td>\n",
              "      <td>-0.069083</td>\n",
              "      <td>-0.225775</td>\n",
              "      <td>-0.638672</td>\n",
              "      <td>0.101288</td>\n",
              "      <td>-0.339846</td>\n",
              "      <td>0.167170</td>\n",
              "      <td>0.125895</td>\n",
              "      <td>-0.008983</td>\n",
              "      <td>0.014724</td>\n",
              "      <td>2.69</td>\n",
              "      <td>0</td>\n",
              "    </tr>\n",
              "    <tr>\n",
              "      <th>2</th>\n",
              "      <td>1.0</td>\n",
              "      <td>-1.358354</td>\n",
              "      <td>-1.340163</td>\n",
              "      <td>1.773209</td>\n",
              "      <td>0.379780</td>\n",
              "      <td>-0.503198</td>\n",
              "      <td>1.800499</td>\n",
              "      <td>0.791461</td>\n",
              "      <td>0.247676</td>\n",
              "      <td>-1.514654</td>\n",
              "      <td>0.207643</td>\n",
              "      <td>0.624501</td>\n",
              "      <td>0.066084</td>\n",
              "      <td>0.717293</td>\n",
              "      <td>-0.165946</td>\n",
              "      <td>2.345865</td>\n",
              "      <td>-2.890083</td>\n",
              "      <td>1.109969</td>\n",
              "      <td>-0.121359</td>\n",
              "      <td>-2.261857</td>\n",
              "      <td>0.524980</td>\n",
              "      <td>0.247998</td>\n",
              "      <td>0.771679</td>\n",
              "      <td>0.909412</td>\n",
              "      <td>-0.689281</td>\n",
              "      <td>-0.327642</td>\n",
              "      <td>-0.139097</td>\n",
              "      <td>-0.055353</td>\n",
              "      <td>-0.059752</td>\n",
              "      <td>378.66</td>\n",
              "      <td>0</td>\n",
              "    </tr>\n",
              "    <tr>\n",
              "      <th>3</th>\n",
              "      <td>1.0</td>\n",
              "      <td>-0.966272</td>\n",
              "      <td>-0.185226</td>\n",
              "      <td>1.792993</td>\n",
              "      <td>-0.863291</td>\n",
              "      <td>-0.010309</td>\n",
              "      <td>1.247203</td>\n",
              "      <td>0.237609</td>\n",
              "      <td>0.377436</td>\n",
              "      <td>-1.387024</td>\n",
              "      <td>-0.054952</td>\n",
              "      <td>-0.226487</td>\n",
              "      <td>0.178228</td>\n",
              "      <td>0.507757</td>\n",
              "      <td>-0.287924</td>\n",
              "      <td>-0.631418</td>\n",
              "      <td>-1.059647</td>\n",
              "      <td>-0.684093</td>\n",
              "      <td>1.965775</td>\n",
              "      <td>-1.232622</td>\n",
              "      <td>-0.208038</td>\n",
              "      <td>-0.108300</td>\n",
              "      <td>0.005274</td>\n",
              "      <td>-0.190321</td>\n",
              "      <td>-1.175575</td>\n",
              "      <td>0.647376</td>\n",
              "      <td>-0.221929</td>\n",
              "      <td>0.062723</td>\n",
              "      <td>0.061458</td>\n",
              "      <td>123.50</td>\n",
              "      <td>0</td>\n",
              "    </tr>\n",
              "    <tr>\n",
              "      <th>4</th>\n",
              "      <td>2.0</td>\n",
              "      <td>-1.158233</td>\n",
              "      <td>0.877737</td>\n",
              "      <td>1.548718</td>\n",
              "      <td>0.403034</td>\n",
              "      <td>-0.407193</td>\n",
              "      <td>0.095921</td>\n",
              "      <td>0.592941</td>\n",
              "      <td>-0.270533</td>\n",
              "      <td>0.817739</td>\n",
              "      <td>0.753074</td>\n",
              "      <td>-0.822843</td>\n",
              "      <td>0.538196</td>\n",
              "      <td>1.345852</td>\n",
              "      <td>-1.119670</td>\n",
              "      <td>0.175121</td>\n",
              "      <td>-0.451449</td>\n",
              "      <td>-0.237033</td>\n",
              "      <td>-0.038195</td>\n",
              "      <td>0.803487</td>\n",
              "      <td>0.408542</td>\n",
              "      <td>-0.009431</td>\n",
              "      <td>0.798278</td>\n",
              "      <td>-0.137458</td>\n",
              "      <td>0.141267</td>\n",
              "      <td>-0.206010</td>\n",
              "      <td>0.502292</td>\n",
              "      <td>0.219422</td>\n",
              "      <td>0.215153</td>\n",
              "      <td>69.99</td>\n",
              "      <td>0</td>\n",
              "    </tr>\n",
              "  </tbody>\n",
              "</table>\n",
              "</div>"
            ],
            "text/plain": [
              "   Time        V1        V2        V3  ...       V27       V28  Amount  Class\n",
              "0   0.0 -1.359807 -0.072781  2.536347  ...  0.133558 -0.021053  149.62      0\n",
              "1   0.0  1.191857  0.266151  0.166480  ... -0.008983  0.014724    2.69      0\n",
              "2   1.0 -1.358354 -1.340163  1.773209  ... -0.055353 -0.059752  378.66      0\n",
              "3   1.0 -0.966272 -0.185226  1.792993  ...  0.062723  0.061458  123.50      0\n",
              "4   2.0 -1.158233  0.877737  1.548718  ...  0.219422  0.215153   69.99      0\n",
              "\n",
              "[5 rows x 31 columns]"
            ]
          },
          "metadata": {
            "tags": []
          },
          "execution_count": 12
        }
      ]
    },
    {
      "cell_type": "code",
      "metadata": {
        "id": "5ETGNs2ZfEJW",
        "colab_type": "code",
        "outputId": "46e2e06e-768e-4e06-d797-8906ca87e062",
        "colab": {
          "base_uri": "https://localhost:8080/",
          "height": 228
        }
      },
      "source": [
        "print(data.shape) \n",
        "print(data.describe()) "
      ],
      "execution_count": 0,
      "outputs": [
        {
          "output_type": "stream",
          "text": [
            "(284807, 31)\n",
            "                Time            V1  ...         Amount          Class\n",
            "count  284807.000000  2.848070e+05  ...  284807.000000  284807.000000\n",
            "mean    94813.859575  3.919560e-15  ...      88.349619       0.001727\n",
            "std     47488.145955  1.958696e+00  ...     250.120109       0.041527\n",
            "min         0.000000 -5.640751e+01  ...       0.000000       0.000000\n",
            "25%     54201.500000 -9.203734e-01  ...       5.600000       0.000000\n",
            "50%     84692.000000  1.810880e-02  ...      22.000000       0.000000\n",
            "75%    139320.500000  1.315642e+00  ...      77.165000       0.000000\n",
            "max    172792.000000  2.454930e+00  ...   25691.160000       1.000000\n",
            "\n",
            "[8 rows x 31 columns]\n"
          ],
          "name": "stdout"
        }
      ]
    },
    {
      "cell_type": "code",
      "metadata": {
        "id": "1pia6zJsfIWF",
        "colab_type": "code",
        "outputId": "2ff7ed1d-df90-4b93-8cf6-331296cc24a0",
        "colab": {
          "base_uri": "https://localhost:8080/",
          "height": 70
        }
      },
      "source": [
        "fraud = data[data['Class'] == 1] \n",
        "valid = data[data['Class'] == 0] \n",
        "outlierFraction = len(fraud)/float(len(valid)) \n",
        "print(outlierFraction) \n",
        "print('Fraud Cases: {}'.format(len(data[data['Class'] == 1]))) \n",
        "print('Valid Transactions: {}'.format(len(data[data['Class'] == 0]))) "
      ],
      "execution_count": 0,
      "outputs": [
        {
          "output_type": "stream",
          "text": [
            "0.0017304750013189597\n",
            "Fraud Cases: 492\n",
            "Valid Transactions: 284315\n"
          ],
          "name": "stdout"
        }
      ]
    },
    {
      "cell_type": "code",
      "metadata": {
        "id": "6n__bHIgfL2U",
        "colab_type": "code",
        "outputId": "9e2d89e4-c3c5-4afb-f8a8-9c227efdc002",
        "colab": {
          "base_uri": "https://localhost:8080/",
          "height": 193
        }
      },
      "source": [
        "print('details of valid transaction') \n",
        "valid.Amount.describe() "
      ],
      "execution_count": 0,
      "outputs": [
        {
          "output_type": "stream",
          "text": [
            "details of valid transaction\n"
          ],
          "name": "stdout"
        },
        {
          "output_type": "execute_result",
          "data": {
            "text/plain": [
              "count    284315.000000\n",
              "mean         88.291022\n",
              "std         250.105092\n",
              "min           0.000000\n",
              "25%           5.650000\n",
              "50%          22.000000\n",
              "75%          77.050000\n",
              "max       25691.160000\n",
              "Name: Amount, dtype: float64"
            ]
          },
          "metadata": {
            "tags": []
          },
          "execution_count": 17
        }
      ]
    },
    {
      "cell_type": "code",
      "metadata": {
        "id": "4_nnX9b3fPlW",
        "colab_type": "code",
        "outputId": "15369e46-109e-4ba9-f289-5c681150ba7e",
        "colab": {
          "base_uri": "https://localhost:8080/",
          "height": 52
        }
      },
      "source": [
        "X = data.drop(['Class'], axis = 1) \n",
        "Y = data[\"Class\"] \n",
        "print(X.shape) \n",
        "print(Y.shape) \n",
        "xData = X.values \n",
        "yData = Y.values "
      ],
      "execution_count": 0,
      "outputs": [
        {
          "output_type": "stream",
          "text": [
            "(284807, 30)\n",
            "(284807,)\n"
          ],
          "name": "stdout"
        }
      ]
    },
    {
      "cell_type": "code",
      "metadata": {
        "id": "p9naP-ycfZ10",
        "colab_type": "code",
        "colab": {}
      },
      "source": [
        "# Using Skicit-learn to split data into training and testing sets \n",
        "from sklearn.model_selection import train_test_split \n",
        "# Split the data into training and testing sets \n",
        "xTrain, xTest, yTrain, yTest = train_test_split( \n",
        "\t\txData, yData, test_size = 0.2, random_state = 42) \n"
      ],
      "execution_count": 0,
      "outputs": []
    },
    {
      "cell_type": "code",
      "metadata": {
        "id": "ai-Atlu-feN0",
        "colab_type": "code",
        "colab": {}
      },
      "source": [
        "# Building the Random Forest Classifier (RANDOM FOREST) \n",
        "from sklearn.ensemble import RandomForestClassifier \n",
        "# random forest model creation \n",
        "rfc = RandomForestClassifier() \n",
        "rfc.fit(xTrain, yTrain) \n",
        "# predictions \n",
        "yPred = rfc.predict(xTest) \n"
      ],
      "execution_count": 0,
      "outputs": []
    },
    {
      "cell_type": "code",
      "metadata": {
        "id": "idask-knfgKk",
        "colab_type": "code",
        "outputId": "e5670db2-bd7f-4b18-e149-020d9602473c",
        "colab": {
          "base_uri": "https://localhost:8080/",
          "height": 122
        }
      },
      "source": [
        "# Evaluating the classifier \n",
        "# printing every score of the classifier \n",
        "# scoring in anything \n",
        "from sklearn.metrics import classification_report, accuracy_score \n",
        "from sklearn.metrics import precision_score, recall_score \n",
        "from sklearn.metrics import f1_score, matthews_corrcoef \n",
        "from sklearn.metrics import confusion_matrix \n",
        "\n",
        "n_outliers = len(fraud) \n",
        "n_errors = (yPred != yTest).sum() \n",
        "print(\"The model used is Random Forest classifier\") \n",
        "\n",
        "acc = accuracy_score(yTest, yPred) \n",
        "print(\"The accuracy is {}\".format(acc)) \n",
        "\n",
        "prec = precision_score(yTest, yPred) \n",
        "print(\"The precision is {}\".format(prec)) \n",
        "\n",
        "rec = recall_score(yTest, yPred) \n",
        "print(\"The recall is {}\".format(rec)) \n",
        "\n",
        "f1 = f1_score(yTest, yPred) \n",
        "print(\"The F1-Score is {}\".format(f1)) \n",
        "\n",
        "MCC = matthews_corrcoef(yTest, yPred) \n",
        "print(\"The Matthews correlation coefficient is{}\".format(MCC)) \n"
      ],
      "execution_count": 0,
      "outputs": [
        {
          "output_type": "stream",
          "text": [
            "The model used is Random Forest classifier\n",
            "The accuracy is 0.9995786664794073\n",
            "The precision is 0.9625\n",
            "The recall is 0.7857142857142857\n",
            "The F1-Score is 0.8651685393258427\n",
            "The Matthews correlation coefficient is0.8694303688259544\n"
          ],
          "name": "stdout"
        }
      ]
    },
    {
      "cell_type": "code",
      "metadata": {
        "id": "9GV_TmcWfi-z",
        "colab_type": "code",
        "outputId": "ed28665e-131f-40bc-a373-6e5da87c5fd2",
        "colab": {
          "base_uri": "https://localhost:8080/",
          "height": 730
        }
      },
      "source": [
        "# printing the confusion matrix \n",
        "LABELS = ['Normal', 'Fraud'] \n",
        "conf_matrix = confusion_matrix(yTest, yPred) \n",
        "plt.figure(figsize =(12, 12)) \n",
        "sns.heatmap(conf_matrix, xticklabels = LABELS, \n",
        "\t\t\tyticklabels = LABELS, annot = True, fmt =\"d\"); \n",
        "plt.title(\"Confusion matrix\") \n",
        "plt.ylabel('True class') \n",
        "plt.xlabel('Predicted class') \n",
        "plt.show() \n"
      ],
      "execution_count": 0,
      "outputs": [
        {
          "output_type": "display_data",
          "data": {
            "image/png": "[encoded data removed]",
            "text/plain": [
              "<Figure size 864x864 with 2 Axes>"
            ]
          },
          "metadata": {
            "tags": []
          }
        }
      ]
    },
    {
      "cell_type": "code",
      "metadata": {
        "id": "lQZaCzJkhEAF",
        "colab_type": "code",
        "colab": {}
      },
      "source": [
        ""
      ],
      "execution_count": 0,
      "outputs": []
    },
    {
      "cell_type": "code",
      "metadata": {
        "id": "rl8FheJFhD2V",
        "colab_type": "code",
        "colab": {}
      },
      "source": [
        ""
      ],
      "execution_count": 0,
      "outputs": []
    },
    {
      "cell_type": "code",
      "metadata": {
        "id": "5Aj1_zk8fmxU",
        "colab_type": "code",
        "outputId": "e6690f01-27a3-4fca-ae01-c20ac112fc5e",
        "colab": {
          "base_uri": "https://localhost:8080/",
          "height": 81
        }
      },
      "source": [
        "import pandas as pd\n",
        "import numpy as np\n",
        "from scipy import stats\n",
        "import tensorflow as tf\n",
        "import matplotlib.pyplot as plt\n",
        "import seaborn as sns\n",
        "import pickle\n",
        "from sklearn.model_selection import train_test_split\n",
        "from sklearn.metrics import confusion_matrix, precision_recall_curve\n",
        "from sklearn.metrics import recall_score, classification_report, auc, roc_curve\n",
        "from sklearn.metrics import precision_recall_fscore_support, f1_score\n",
        "from sklearn.preprocessing import StandardScaler\n",
        "from pylab import rcParams\n",
        "from keras.models import Model, load_model\n",
        "from keras.layers import Input, Dense\n",
        "from keras.callbacks import ModelCheckpoint, TensorBoard\n",
        "from keras import regularizers\n",
        "\n",
        "#set random seed and percentage of test data\n",
        "RANDOM_SEED = 314 #used to help randomly select the data points\n",
        "TEST_PCT = 0.2 # 20% of the data\n",
        "\n",
        "#set up graphic style in this case I am using the color scheme from xkcd.com\n",
        "rcParams['figure.figsize'] = 14, 8.7 # Golden Mean\n",
        "LABELS = [\"Normal\",\"Fraud\"]"
      ],
      "execution_count": 0,
      "outputs": [
        {
          "output_type": "display_data",
          "data": {
            "text/html": [
              "<p style=\"color: red;\">\n",
              "The default version of TensorFlow in Colab will soon switch to TensorFlow 2.x.<br>\n",
              "We recommend you <a href=\"https://www.tensorflow.org/guide/migrate\" target=\"_blank\">upgrade</a> now \n",
              "or ensure your notebook will continue to use TensorFlow 1.x via the <code>%tensorflow_version 1.x</code> magic:\n",
              "<a href=\"https://colab.research.google.com/notebooks/tensorflow_version.ipynb\" target=\"_blank\">more info</a>.</p>\n"
            ],
            "text/plain": [
              "<IPython.core.display.HTML object>"
            ]
          },
          "metadata": {
            "tags": []
          }
        },
        {
          "output_type": "stream",
          "text": [
            "Using TensorFlow backend.\n"
          ],
          "name": "stderr"
        }
      ]
    },
    {
      "cell_type": "code",
      "metadata": {
        "id": "86wYdHt_hKaE",
        "colab_type": "code",
        "colab": {}
      },
      "source": [
        "df = pd.read_csv(\"/content/drive/My Drive/Datasets/creditcard.csv\")"
      ],
      "execution_count": 0,
      "outputs": []
    },
    {
      "cell_type": "code",
      "metadata": {
        "id": "IXOJp5XRhS5k",
        "colab_type": "code",
        "colab": {}
      },
      "source": [
        "df_norm = df.copy()\n",
        "# Reshape your data either using array.reshape(-1, 1) if your data has a single feature\n",
        "# or array.reshape(1, -1) if it contains a single sample.\n",
        "df_norm['Time'] = StandardScaler().fit_transform(df_norm['Time'].values.reshape(-1, 1))\n",
        "df_norm['Amount'] = StandardScaler().fit_transform(df_norm['Amount'].values.reshape(-1, 1))"
      ],
      "execution_count": 0,
      "outputs": []
    },
    {
      "cell_type": "code",
      "metadata": {
        "id": "j4if9XTDhYzk",
        "colab_type": "code",
        "colab": {}
      },
      "source": [
        "train_x, test_x = train_test_split(df_norm, test_size=TEST_PCT, random_state=RANDOM_SEED)\n",
        "train_x = train_x[train_x.Class == 0]       # where normal transactions\n",
        "train_x = train_x.drop(['Class'], axis=1)   # drop the class column\n",
        "\n",
        "\n",
        "test_y = test_x['Class']                    # save the class column for the test set\n",
        "test_x = test_x.drop(['Class'], axis=1)     # drop the class column\n",
        "\n",
        "train_x = train_x.values                    # transform to ndarray\n",
        "test_x = test_x.values                      # transform to ndarray"
      ],
      "execution_count": 0,
      "outputs": []
    },
    {
      "cell_type": "code",
      "metadata": {
        "id": "1qFcHMfChbpz",
        "colab_type": "code",
        "colab": {}
      },
      "source": [
        "nb_epoch = 50\n",
        "batch_size = 128\n",
        "input_dim = train_x.shape[1] #num of columns, 30\n",
        "encoding_dim = 18\n",
        "hidden_dim1 = 10 #int(encoding_dim / 2) #i.e. 7\n",
        "hidden_dim2 = 6\n",
        "learning_rate = 1e-7"
      ],
      "execution_count": 0,
      "outputs": []
    },
    {
      "cell_type": "code",
      "metadata": {
        "id": "mk0n2vALhdSk",
        "colab_type": "code",
        "outputId": "12f9c48f-4062-4d01-b4b2-d564b54c319d",
        "colab": {
          "base_uri": "https://localhost:8080/",
          "height": 142
        }
      },
      "source": [
        "# This returns a tensor\n",
        "input_layer = Input(shape=(input_dim, ))\n",
        "\n",
        "# a layer instance is callable on a tensor, and returns a tensor\n",
        "# Dense implements the operation: output = activation(dot(input, kernel) + bias), where\n",
        "# activation is the element-wise activation function passed as the activation argument, \n",
        "# kernel is a weights matrix created by the layer, and \n",
        "# bias is a bias vector created by the layer (only applicable if use_bias is True).\n",
        "\n",
        "# activity_regularizer: Regularizer function applied to the output of the layer\n",
        "encoder = Dense(encoding_dim, activation=\"tanh\", \n",
        "                activity_regularizer=regularizers.l1(learning_rate))(input_layer)\n",
        "encoder = Dense(hidden_dim1, activation=\"elu\")(encoder)\n",
        "encoder = Dense(hidden_dim2, activation=\"tanh\")(encoder)\n",
        "decoder = Dense(hidden_dim2, activation='elu')(encoder)\n",
        "decoder = Dense(hidden_dim1, activation='tanh')(decoder)\n",
        "decoder = Dense(input_dim, activation='elu')(decoder)\n",
        "\n",
        "# This creates a model that includes\n",
        "# the Input layer and four Dense layers\n",
        "autoencoder = Model(inputs=input_layer, outputs=decoder)"
      ],
      "execution_count": 0,
      "outputs": [
        {
          "output_type": "stream",
          "text": [
            "WARNING:tensorflow:From /usr/local/lib/python3.6/dist-packages/keras/backend/tensorflow_backend.py:66: The name tf.get_default_graph is deprecated. Please use tf.compat.v1.get_default_graph instead.\n",
            "\n",
            "WARNING:tensorflow:From /usr/local/lib/python3.6/dist-packages/keras/backend/tensorflow_backend.py:541: The name tf.placeholder is deprecated. Please use tf.compat.v1.placeholder instead.\n",
            "\n",
            "WARNING:tensorflow:From /usr/local/lib/python3.6/dist-packages/keras/backend/tensorflow_backend.py:4432: The name tf.random_uniform is deprecated. Please use tf.random.uniform instead.\n",
            "\n"
          ],
          "name": "stdout"
        }
      ]
    },
    {
      "cell_type": "code",
      "metadata": {
        "id": "v5cjO2aahfAT",
        "colab_type": "code",
        "outputId": "53c86814-561f-45ac-fb7f-7c3433639ade",
        "colab": {
          "base_uri": "https://localhost:8080/",
          "height": 1000
        }
      },
      "source": [
        "# Configure the learning process, by compiling the model\n",
        "autoencoder.compile(optimizer='adam',\n",
        "                    metrics=['accuracy'],\n",
        "                    loss='mean_squared_error')\n",
        "\n",
        "# Saving the model\n",
        "cp = ModelCheckpoint(filepath=\"autoencoder_fraud.h5\",\n",
        "                     save_best_only=True,\n",
        "                     verbose=0)\n",
        "\n",
        "# TensorBoard basic visualizations.\n",
        "# This callback writes a log for TensorBoard, \n",
        "# which allows you to visualize dynamic graphs of your training and test metrics\n",
        "tb = TensorBoard(log_dir='./logs',\n",
        "                 histogram_freq=0,\n",
        "                 write_graph=True,\n",
        "                 write_images=True)\n",
        "\n",
        "# Starts training\n",
        "# autoencoder: same training(x) and target data(y)\n",
        "# validation_data: tuple (x_val, y_val) on which \n",
        "# to evaluate the loss and any model metrics at the end of each epoch.\n",
        "\n",
        "# History.history attribute is a record of training loss values \n",
        "# and metrics values at successive epochs.\n",
        "history = autoencoder.fit(x=train_x, y=train_x,\n",
        "                          epochs=nb_epoch,\n",
        "                          batch_size=batch_size,\n",
        "                          shuffle=True,\n",
        "                          validation_data=(test_x, test_x),\n",
        "                          verbose=1,\n",
        "                          callbacks=[cp, tb]).history"
      ],
      "execution_count": 0,
      "outputs": [
        {
          "output_type": "stream",
          "text": [
            "WARNING:tensorflow:From /usr/local/lib/python3.6/dist-packages/keras/optimizers.py:793: The name tf.train.Optimizer is deprecated. Please use tf.compat.v1.train.Optimizer instead.\n",
            "\n",
            "WARNING:tensorflow:From /usr/local/lib/python3.6/dist-packages/keras/backend/tensorflow_backend.py:1033: The name tf.assign_add is deprecated. Please use tf.compat.v1.assign_add instead.\n",
            "\n",
            "WARNING:tensorflow:From /usr/local/lib/python3.6/dist-packages/keras/backend/tensorflow_backend.py:1020: The name tf.assign is deprecated. Please use tf.compat.v1.assign instead.\n",
            "\n",
            "WARNING:tensorflow:From /usr/local/lib/python3.6/dist-packages/keras/backend/tensorflow_backend.py:3005: The name tf.Session is deprecated. Please use tf.compat.v1.Session instead.\n",
            "\n",
            "Train on 227468 samples, validate on 56962 samples\n",
            "WARNING:tensorflow:From /usr/local/lib/python3.6/dist-packages/keras/backend/tensorflow_backend.py:190: The name tf.get_default_session is deprecated. Please use tf.compat.v1.get_default_session instead.\n",
            "\n",
            "WARNING:tensorflow:From /usr/local/lib/python3.6/dist-packages/keras/backend/tensorflow_backend.py:197: The name tf.ConfigProto is deprecated. Please use tf.compat.v1.ConfigProto instead.\n",
            "\n",
            "WARNING:tensorflow:From /usr/local/lib/python3.6/dist-packages/keras/backend/tensorflow_backend.py:207: The name tf.global_variables is deprecated. Please use tf.compat.v1.global_variables instead.\n",
            "\n",
            "WARNING:tensorflow:From /usr/local/lib/python3.6/dist-packages/keras/backend/tensorflow_backend.py:216: The name tf.is_variable_initialized is deprecated. Please use tf.compat.v1.is_variable_initialized instead.\n",
            "\n",
            "WARNING:tensorflow:From /usr/local/lib/python3.6/dist-packages/keras/backend/tensorflow_backend.py:223: The name tf.variables_initializer is deprecated. Please use tf.compat.v1.variables_initializer instead.\n",
            "\n",
            "WARNING:tensorflow:From /usr/local/lib/python3.6/dist-packages/keras/callbacks.py:1122: The name tf.summary.merge_all is deprecated. Please use tf.compat.v1.summary.merge_all instead.\n",
            "\n",
            "WARNING:tensorflow:From /usr/local/lib/python3.6/dist-packages/keras/callbacks.py:1125: The name tf.summary.FileWriter is deprecated. Please use tf.compat.v1.summary.FileWriter instead.\n",
            "\n",
            "Epoch 1/50\n",
            "227468/227468 [==============================] - 4s 17us/step - loss: 0.7452 - acc: 0.5007 - val_loss: 0.6909 - val_acc: 0.5956\n",
            "WARNING:tensorflow:From /usr/local/lib/python3.6/dist-packages/keras/callbacks.py:1265: The name tf.Summary is deprecated. Please use tf.compat.v1.Summary instead.\n",
            "\n",
            "Epoch 2/50\n",
            "227468/227468 [==============================] - 4s 16us/step - loss: 0.6376 - acc: 0.6076 - val_loss: 0.6544 - val_acc: 0.6146\n",
            "Epoch 3/50\n",
            "227468/227468 [==============================] - 4s 16us/step - loss: 0.6118 - acc: 0.6307 - val_loss: 0.6371 - val_acc: 0.6377\n",
            "Epoch 4/50\n",
            "227468/227468 [==============================] - 4s 16us/step - loss: 0.5985 - acc: 0.6408 - val_loss: 0.6257 - val_acc: 0.6370\n",
            "Epoch 5/50\n",
            "227468/227468 [==============================] - 4s 16us/step - loss: 0.5882 - acc: 0.6459 - val_loss: 0.6160 - val_acc: 0.6485\n",
            "Epoch 6/50\n",
            "227468/227468 [==============================] - 4s 17us/step - loss: 0.5772 - acc: 0.6476 - val_loss: 0.6075 - val_acc: 0.6507\n",
            "Epoch 7/50\n",
            "227468/227468 [==============================] - 4s 18us/step - loss: 0.5697 - acc: 0.6503 - val_loss: 0.6017 - val_acc: 0.6443\n",
            "Epoch 8/50\n",
            "227468/227468 [==============================] - 4s 17us/step - loss: 0.5647 - acc: 0.6514 - val_loss: 0.6002 - val_acc: 0.6494\n",
            "Epoch 9/50\n",
            "227468/227468 [==============================] - 4s 16us/step - loss: 0.5612 - acc: 0.6532 - val_loss: 0.5941 - val_acc: 0.6528\n",
            "Epoch 10/50\n",
            "227468/227468 [==============================] - 4s 16us/step - loss: 0.5583 - acc: 0.6551 - val_loss: 0.5919 - val_acc: 0.6507\n",
            "Epoch 11/50\n",
            "227468/227468 [==============================] - 4s 16us/step - loss: 0.5562 - acc: 0.6562 - val_loss: 0.5899 - val_acc: 0.6537\n",
            "Epoch 12/50\n",
            "227468/227468 [==============================] - 4s 16us/step - loss: 0.5543 - acc: 0.6563 - val_loss: 0.5889 - val_acc: 0.6542\n",
            "Epoch 13/50\n",
            "227468/227468 [==============================] - 4s 16us/step - loss: 0.5525 - acc: 0.6577 - val_loss: 0.5890 - val_acc: 0.6518\n",
            "Epoch 14/50\n",
            "227468/227468 [==============================] - 4s 16us/step - loss: 0.5508 - acc: 0.6573 - val_loss: 0.5849 - val_acc: 0.6537\n",
            "Epoch 15/50\n",
            "227468/227468 [==============================] - 4s 16us/step - loss: 0.5492 - acc: 0.6575 - val_loss: 0.5840 - val_acc: 0.6551\n",
            "Epoch 16/50\n",
            "227468/227468 [==============================] - 4s 16us/step - loss: 0.5480 - acc: 0.6583 - val_loss: 0.5830 - val_acc: 0.6492\n",
            "Epoch 17/50\n",
            "227468/227468 [==============================] - 4s 15us/step - loss: 0.5470 - acc: 0.6593 - val_loss: 0.5810 - val_acc: 0.6577\n",
            "Epoch 18/50\n",
            "227468/227468 [==============================] - 3s 15us/step - loss: 0.5461 - acc: 0.6586 - val_loss: 0.5813 - val_acc: 0.6567\n",
            "Epoch 19/50\n",
            "227468/227468 [==============================] - 3s 15us/step - loss: 0.5449 - acc: 0.6590 - val_loss: 0.5809 - val_acc: 0.6615\n",
            "Epoch 20/50\n",
            "227468/227468 [==============================] - 4s 16us/step - loss: 0.5437 - acc: 0.6598 - val_loss: 0.5797 - val_acc: 0.6500\n",
            "Epoch 21/50\n",
            "227468/227468 [==============================] - 3s 15us/step - loss: 0.5431 - acc: 0.6596 - val_loss: 0.5776 - val_acc: 0.6612\n",
            "Epoch 22/50\n",
            "227468/227468 [==============================] - 3s 15us/step - loss: 0.5416 - acc: 0.6596 - val_loss: 0.5766 - val_acc: 0.6614\n",
            "Epoch 23/50\n",
            "227468/227468 [==============================] - 3s 15us/step - loss: 0.5405 - acc: 0.6602 - val_loss: 0.5760 - val_acc: 0.6594\n",
            "Epoch 24/50\n",
            "227468/227468 [==============================] - 3s 15us/step - loss: 0.5395 - acc: 0.6588 - val_loss: 0.5745 - val_acc: 0.6566\n",
            "Epoch 25/50\n",
            "227468/227468 [==============================] - 4s 16us/step - loss: 0.5381 - acc: 0.6580 - val_loss: 0.5743 - val_acc: 0.6597\n",
            "Epoch 26/50\n",
            "227468/227468 [==============================] - 3s 15us/step - loss: 0.5372 - acc: 0.6569 - val_loss: 0.5737 - val_acc: 0.6556\n",
            "Epoch 27/50\n",
            "227468/227468 [==============================] - 3s 15us/step - loss: 0.5362 - acc: 0.6553 - val_loss: 0.5727 - val_acc: 0.6557\n",
            "Epoch 28/50\n",
            "227468/227468 [==============================] - 4s 16us/step - loss: 0.5347 - acc: 0.6550 - val_loss: 0.5707 - val_acc: 0.6526\n",
            "Epoch 29/50\n",
            "227468/227468 [==============================] - 3s 15us/step - loss: 0.5337 - acc: 0.6551 - val_loss: 0.5688 - val_acc: 0.6562\n",
            "Epoch 30/50\n",
            "227468/227468 [==============================] - 4s 16us/step - loss: 0.5333 - acc: 0.6543 - val_loss: 0.5676 - val_acc: 0.6566\n",
            "Epoch 31/50\n",
            "227468/227468 [==============================] - 4s 16us/step - loss: 0.5321 - acc: 0.6543 - val_loss: 0.5680 - val_acc: 0.6516\n",
            "Epoch 32/50\n",
            "227468/227468 [==============================] - 4s 16us/step - loss: 0.5313 - acc: 0.6542 - val_loss: 0.5668 - val_acc: 0.6590\n",
            "Epoch 33/50\n",
            "227468/227468 [==============================] - 4s 15us/step - loss: 0.5308 - acc: 0.6547 - val_loss: 0.5668 - val_acc: 0.6599\n",
            "Epoch 34/50\n",
            "227468/227468 [==============================] - 4s 16us/step - loss: 0.5301 - acc: 0.6550 - val_loss: 0.5686 - val_acc: 0.6539\n",
            "Epoch 35/50\n",
            "227468/227468 [==============================] - 4s 15us/step - loss: 0.5298 - acc: 0.6544 - val_loss: 0.5647 - val_acc: 0.6585\n",
            "Epoch 36/50\n",
            "227468/227468 [==============================] - 3s 15us/step - loss: 0.5291 - acc: 0.6556 - val_loss: 0.5645 - val_acc: 0.6608\n",
            "Epoch 37/50\n",
            "227468/227468 [==============================] - 4s 16us/step - loss: 0.5286 - acc: 0.6553 - val_loss: 0.5630 - val_acc: 0.6595\n",
            "Epoch 38/50\n",
            "227468/227468 [==============================] - 4s 17us/step - loss: 0.5280 - acc: 0.6549 - val_loss: 0.5655 - val_acc: 0.6537\n",
            "Epoch 39/50\n",
            "227468/227468 [==============================] - 4s 17us/step - loss: 0.5273 - acc: 0.6562 - val_loss: 0.5632 - val_acc: 0.6551\n",
            "Epoch 40/50\n",
            "227468/227468 [==============================] - 4s 17us/step - loss: 0.5267 - acc: 0.6570 - val_loss: 0.5620 - val_acc: 0.6595\n",
            "Epoch 41/50\n",
            "227468/227468 [==============================] - 3s 15us/step - loss: 0.5264 - acc: 0.6572 - val_loss: 0.5611 - val_acc: 0.6600\n",
            "Epoch 42/50\n",
            "227468/227468 [==============================] - 4s 16us/step - loss: 0.5257 - acc: 0.6578 - val_loss: 0.5625 - val_acc: 0.6579\n",
            "Epoch 43/50\n",
            "227468/227468 [==============================] - 4s 16us/step - loss: 0.5254 - acc: 0.6580 - val_loss: 0.5624 - val_acc: 0.6552\n",
            "Epoch 44/50\n",
            "227468/227468 [==============================] - 4s 16us/step - loss: 0.5251 - acc: 0.6581 - val_loss: 0.5612 - val_acc: 0.6577\n",
            "Epoch 45/50\n",
            "227468/227468 [==============================] - 4s 15us/step - loss: 0.5247 - acc: 0.6587 - val_loss: 0.5632 - val_acc: 0.6538\n",
            "Epoch 46/50\n",
            "227468/227468 [==============================] - 3s 15us/step - loss: 0.5244 - acc: 0.6588 - val_loss: 0.5597 - val_acc: 0.6637\n",
            "Epoch 47/50\n",
            "227468/227468 [==============================] - 4s 15us/step - loss: 0.5244 - acc: 0.6588 - val_loss: 0.5601 - val_acc: 0.6581\n",
            "Epoch 48/50\n",
            "227468/227468 [==============================] - 4s 16us/step - loss: 0.5239 - acc: 0.6591 - val_loss: 0.5596 - val_acc: 0.6589\n",
            "Epoch 49/50\n",
            "227468/227468 [==============================] - 4s 16us/step - loss: 0.5236 - acc: 0.6585 - val_loss: 0.5598 - val_acc: 0.6571\n",
            "Epoch 50/50\n",
            "227468/227468 [==============================] - 4s 16us/step - loss: 0.5234 - acc: 0.6595 - val_loss: 0.5590 - val_acc: 0.6535\n"
          ],
          "name": "stdout"
        }
      ]
    },
    {
      "cell_type": "code",
      "metadata": {
        "id": "SPepR1XQiZgj",
        "colab_type": "code",
        "outputId": "d4a09e2a-e697-4ba8-c72f-a53656102c31",
        "colab": {
          "base_uri": "https://localhost:8080/",
          "height": 284
        }
      },
      "source": [
        "test_x_predictions = autoencoder.predict(test_x)\n",
        "mse = np.mean(np.power(test_x - test_x_predictions, 2), axis=1)\n",
        "error_df = pd.DataFrame({'Reconstruction_error': mse,\n",
        "                        'True_class': test_y})\n",
        "error_df.describe()\n",
        "\n"
      ],
      "execution_count": 0,
      "outputs": [
        {
          "output_type": "execute_result",
          "data": {
            "text/html": [
              "<div>\n",
              "<style scoped>\n",
              "    .dataframe tbody tr th:only-of-type {\n",
              "        vertical-align: middle;\n",
              "    }\n",
              "\n",
              "    .dataframe tbody tr th {\n",
              "        vertical-align: top;\n",
              "    }\n",
              "\n",
              "    .dataframe thead th {\n",
              "        text-align: right;\n",
              "    }\n",
              "</style>\n",
              "<table border=\"1\" class=\"dataframe\">\n",
              "  <thead>\n",
              "    <tr style=\"text-align: right;\">\n",
              "      <th></th>\n",
              "      <th>Reconstruction_error</th>\n",
              "      <th>True_class</th>\n",
              "    </tr>\n",
              "  </thead>\n",
              "  <tbody>\n",
              "    <tr>\n",
              "      <th>count</th>\n",
              "      <td>56962.000000</td>\n",
              "      <td>56962.000000</td>\n",
              "    </tr>\n",
              "    <tr>\n",
              "      <th>mean</th>\n",
              "      <td>0.558850</td>\n",
              "      <td>0.002019</td>\n",
              "    </tr>\n",
              "    <tr>\n",
              "      <th>std</th>\n",
              "      <td>3.099049</td>\n",
              "      <td>0.044887</td>\n",
              "    </tr>\n",
              "    <tr>\n",
              "      <th>min</th>\n",
              "      <td>0.026328</td>\n",
              "      <td>0.000000</td>\n",
              "    </tr>\n",
              "    <tr>\n",
              "      <th>25%</th>\n",
              "      <td>0.148668</td>\n",
              "      <td>0.000000</td>\n",
              "    </tr>\n",
              "    <tr>\n",
              "      <th>50%</th>\n",
              "      <td>0.241317</td>\n",
              "      <td>0.000000</td>\n",
              "    </tr>\n",
              "    <tr>\n",
              "      <th>75%</th>\n",
              "      <td>0.413544</td>\n",
              "      <td>0.000000</td>\n",
              "    </tr>\n",
              "    <tr>\n",
              "      <th>max</th>\n",
              "      <td>198.392444</td>\n",
              "      <td>1.000000</td>\n",
              "    </tr>\n",
              "  </tbody>\n",
              "</table>\n",
              "</div>"
            ],
            "text/plain": [
              "       Reconstruction_error    True_class\n",
              "count          56962.000000  56962.000000\n",
              "mean               0.558850      0.002019\n",
              "std                3.099049      0.044887\n",
              "min                0.026328      0.000000\n",
              "25%                0.148668      0.000000\n",
              "50%                0.241317      0.000000\n",
              "75%                0.413544      0.000000\n",
              "max              198.392444      1.000000"
            ]
          },
          "metadata": {
            "tags": []
          },
          "execution_count": 36
        }
      ]
    },
    {
      "cell_type": "code",
      "metadata": {
        "id": "xQw4m4xoijPf",
        "colab_type": "code",
        "colab": {}
      },
      "source": [
        "false_pos_rate, true_pos_rate, thresholds = roc_curve(error_df.True_class,\n",
        "                                                      error_df.Reconstruction_error)\n",
        "roc_auc = auc(false_pos_rate, true_pos_rate,)"
      ],
      "execution_count": 0,
      "outputs": []
    },
    {
      "cell_type": "code",
      "metadata": {
        "id": "VKcBqIoxipKJ",
        "colab_type": "code",
        "colab": {}
      },
      "source": [
        "precision_rt, recall_rt, threshold_rt = precision_recall_curve(error_df.True_class,\n",
        "                                                               error_df.Reconstruction_error)\n",
        "\n",
        "pr_auc = auc(recall_rt, precision_rt,)"
      ],
      "execution_count": 0,
      "outputs": []
    },
    {
      "cell_type": "code",
      "metadata": {
        "id": "fuf0mTo7iu3E",
        "colab_type": "code",
        "colab": {}
      },
      "source": [
        "threshold_fixed = 4\n"
      ],
      "execution_count": 0,
      "outputs": []
    },
    {
      "cell_type": "code",
      "metadata": {
        "id": "e22z6ywAhhhO",
        "colab_type": "code",
        "outputId": "01ad22b9-3b53-4fcb-aee5-0940d139d4b1",
        "colab": {
          "base_uri": "https://localhost:8080/",
          "height": 730
        }
      },
      "source": [
        "# As with autoencoders, it is the assumption that fraud or anomalies will suffer \n",
        "# from a detectably high reconstruction error, predicting class as 1 (Fraud)\n",
        "# if reconstruction error is greater than threshold\n",
        "pred_y = [1 if e > threshold_fixed else 0 for e in error_df.Reconstruction_error.values]\n",
        "conf_matrix = confusion_matrix(error_df.True_class, pred_y)\n",
        "\n",
        "plt.figure(figsize=(12, 12))\n",
        "sns.heatmap(conf_matrix, xticklabels=LABELS, yticklabels=LABELS, annot=True, fmt=\"d\");\n",
        "plt.title(\"Confusion matrix\")\n",
        "plt.ylabel('True class')\n",
        "plt.xlabel('Predicted class')\n",
        "plt.show()"
      ],
      "execution_count": 0,
      "outputs": [
        {
          "output_type": "display_data",
          "data": {
            "image/png": "[encoded data removed]",
            "text/plain": [
              "<Figure size 864x864 with 2 Axes>"
            ]
          },
          "metadata": {
            "tags": []
          }
        }
      ]
    },
    {
      "cell_type": "code",
      "metadata": {
        "id": "8rxD3PYwh4i2",
        "colab_type": "code",
        "colab": {}
      },
      "source": [
        ""
      ],
      "execution_count": 0,
      "outputs": []
    },
    {
      "cell_type": "code",
      "metadata": {
        "id": "U6TsYWkyi-qE",
        "colab_type": "code",
        "colab": {}
      },
      "source": [
        "import numpy as np\n",
        "import pandas as pd\n",
        "import matplotlib.pyplot as plt\n",
        "import seaborn as sns\n",
        "import itertools\n",
        "import warnings"
      ],
      "execution_count": 0,
      "outputs": []
    },
    {
      "cell_type": "code",
      "metadata": {
        "id": "se6Dw-GukELo",
        "colab_type": "code",
        "colab": {}
      },
      "source": [
        "from sklearn.model_selection import train_test_split\n",
        "from sklearn.preprocessing import StandardScaler\n",
        "from sklearn.neural_network import MLPClassifier\n",
        "from sklearn import metrics\n",
        "from sklearn.tree import DecisionTreeClassifier\n",
        "from sklearn.naive_bayes import GaussianNB"
      ],
      "execution_count": 0,
      "outputs": []
    },
    {
      "cell_type": "code",
      "metadata": {
        "id": "lsOhrWMdkHY5",
        "colab_type": "code",
        "colab": {}
      },
      "source": [
        "from keras.models import Sequential\n",
        "from keras.layers import Dense, LSTM, Dropout\n",
        "from keras.callbacks import Callback\n",
        "import keras.backend as kb\n",
        "import tensorflow as tf"
      ],
      "execution_count": 0,
      "outputs": []
    },
    {
      "cell_type": "code",
      "metadata": {
        "id": "BFJQbt_jkI_V",
        "colab_type": "code",
        "colab": {}
      },
      "source": [
        "dataset = pd.read_csv(\"/content/drive/My Drive/Datasets/creditcard.csv\")"
      ],
      "execution_count": 0,
      "outputs": []
    },
    {
      "cell_type": "code",
      "metadata": {
        "id": "_c0k1rnZkU25",
        "colab_type": "code",
        "outputId": "d6c3d0c5-3647-4ade-ff14-aead68f71e3e",
        "colab": {
          "base_uri": "https://localhost:8080/",
          "height": 142
        }
      },
      "source": [
        "x = dataset.loc[:,dataset.columns.tolist()[1:30]]\n",
        "x = x.as_matrix()\n",
        "y = dataset.loc[:,'Class']\n",
        "y = y.as_matrix()\n",
        "x_train,x_test,y_train,y_test = train_test_split(x,y,test_size=0.33,random_state=0)\n",
        "print(\"Elements in the training set:\" , np.bincount(y_train))\n",
        "print(\"Elements in the testing set:\" , np.bincount(y_test))"
      ],
      "execution_count": 0,
      "outputs": [
        {
          "output_type": "stream",
          "text": [
            "Elements in the training set: [190490    330]\n",
            "Elements in the testing set: [93825   162]\n"
          ],
          "name": "stdout"
        },
        {
          "output_type": "stream",
          "text": [
            "/usr/local/lib/python3.6/dist-packages/ipykernel_launcher.py:2: FutureWarning: Method .as_matrix will be removed in a future version. Use .values instead.\n",
            "  \n",
            "/usr/local/lib/python3.6/dist-packages/ipykernel_launcher.py:4: FutureWarning: Method .as_matrix will be removed in a future version. Use .values instead.\n",
            "  after removing the cwd from sys.path.\n"
          ],
          "name": "stderr"
        }
      ]
    },
    {
      "cell_type": "code",
      "metadata": {
        "id": "Ay_eOJKukcAV",
        "colab_type": "code",
        "colab": {}
      },
      "source": [
        "def trainmodel(model):\n",
        "    model.fit(x_train,y_train)"
      ],
      "execution_count": 0,
      "outputs": []
    },
    {
      "cell_type": "code",
      "metadata": {
        "id": "0xqmUhcikea4",
        "colab_type": "code",
        "colab": {}
      },
      "source": [
        "def predictmodel(model):\n",
        "    y_pred = model.predict(x_test)\n",
        "    f,t,thresholds = metrics.roc_curve(y_test,y_pred)\n",
        "    cm = metrics.confusion_matrix(y_test,y_pred)\n",
        "    print(\"Score:\", metrics.auc(f,t))\n",
        "    print(\"Classification report:\")\n",
        "    print(metrics.classification_report(y_test,y_pred))\n",
        "    print(\"Confusion Matrix:\")\n",
        "    print(cm)"
      ],
      "execution_count": 0,
      "outputs": []
    },
    {
      "cell_type": "code",
      "metadata": {
        "id": "MTbpcUsjkgEF",
        "colab_type": "code",
        "colab": {}
      },
      "source": [
        "def predictmodeln(model):\n",
        "    y_pred = model.predict_classes(x_test)\n",
        "    f,t,thresholds = metrics.roc_curve(y_test,y_pred)\n",
        "    cm = metrics.confusion_matrix(y_test,y_pred)\n",
        "    print(\"Score:\", metrics.auc(f,t))\n",
        "    print(\"Classification report:\")\n",
        "    print(metrics.classification_report(y_test,y_pred))\n",
        "    print(\"Confusion Matrix:\")\n",
        "    print(cm)\n",
        "    plt.figure(figsize=(12, 12))\n",
        "    sns.heatmap(cm, xticklabels=LABELS, yticklabels=LABELS, annot=True, fmt=\"d\");\n",
        "    plt.title(\"Confusion matrix\")\n",
        "    plt.ylabel('True class')\n",
        "    plt.xlabel('Predicted class')\n",
        "    plt.show()"
      ],
      "execution_count": 0,
      "outputs": []
    },
    {
      "cell_type": "code",
      "metadata": {
        "id": "YWB7PAc0khyF",
        "colab_type": "code",
        "colab": {}
      },
      "source": [
        "model = Sequential()\n",
        "model.add(Dense(256,activation='sigmoid',input_dim=29))\n",
        "model.add(Dense(128,activation='sigmoid'))\n",
        "model.add(Dense(64,activation='sigmoid'))\n",
        "model.add(Dense(1,activation='sigmoid'))\n",
        "model.compile(optimizer='adam',loss='binary_crossentropy',metrics=['accuracy'])"
      ],
      "execution_count": 0,
      "outputs": []
    },
    {
      "cell_type": "code",
      "metadata": {
        "id": "-gI3wggYkjxF",
        "colab_type": "code",
        "outputId": "cb0a3468-4cd3-42ce-aaf3-9f24a62e9e4c",
        "colab": {
          "base_uri": "https://localhost:8080/",
          "height": 1000
        }
      },
      "source": [
        "model.fit(x_train,y_train,epochs=10)\n",
        "print(predictmodeln(model))"
      ],
      "execution_count": 0,
      "outputs": [
        {
          "output_type": "stream",
          "text": [
            "Epoch 1/10\n",
            "190820/190820 [==============================] - 13s 67us/step - loss: 0.0029 - acc: 0.9995\n",
            "Epoch 2/10\n",
            "190820/190820 [==============================] - 13s 68us/step - loss: 0.0028 - acc: 0.9995\n",
            "Epoch 3/10\n",
            "190820/190820 [==============================] - 13s 67us/step - loss: 0.0029 - acc: 0.9995\n",
            "Epoch 4/10\n",
            "190820/190820 [==============================] - 13s 67us/step - loss: 0.0028 - acc: 0.9995\n",
            "Epoch 5/10\n",
            "190820/190820 [==============================] - 13s 66us/step - loss: 0.0028 - acc: 0.9995\n",
            "Epoch 6/10\n",
            "190820/190820 [==============================] - 13s 68us/step - loss: 0.0027 - acc: 0.9995\n",
            "Epoch 7/10\n",
            "190820/190820 [==============================] - 13s 67us/step - loss: 0.0027 - acc: 0.9996\n",
            "Epoch 8/10\n",
            "190820/190820 [==============================] - 13s 67us/step - loss: 0.0025 - acc: 0.9996\n",
            "Epoch 9/10\n",
            "190820/190820 [==============================] - 12s 66us/step - loss: 0.0026 - acc: 0.9995\n",
            "Epoch 10/10\n",
            "190820/190820 [==============================] - 13s 67us/step - loss: 0.0025 - acc: 0.9996\n",
            "Score: 0.9134523492317259\n",
            "Classification report:\n",
            "              precision    recall  f1-score   support\n",
            "\n",
            "           0       1.00      1.00      1.00     93825\n",
            "           1       0.85      0.83      0.84       162\n",
            "\n",
            "    accuracy                           1.00     93987\n",
            "   macro avg       0.92      0.91      0.92     93987\n",
            "weighted avg       1.00      1.00      1.00     93987\n",
            "\n",
            "Confusion Matrix:\n",
            "[[93801    24]\n",
            " [   28   134]]\n"
          ],
          "name": "stdout"
        },
        {
          "output_type": "display_data",
          "data": {
            "image/png": "[encoded data removed]",
            "text/plain": [
              "<Figure size 864x864 with 2 Axes>"
            ]
          },
          "metadata": {
            "tags": []
          }
        },
        {
          "output_type": "stream",
          "text": [
            "None\n"
          ],
          "name": "stdout"
        }
      ]
    },
    {
      "cell_type": "code",
      "metadata": {
        "id": "jF_R28KpkmMV",
        "colab_type": "code",
        "outputId": "5fa8804c-1c05-40d6-f554-1a98ecf30499",
        "colab": {
          "base_uri": "https://localhost:8080/",
          "height": 730
        }
      },
      "source": [
        ""
      ],
      "execution_count": 0,
      "outputs": [
        {
          "output_type": "display_data",
          "data": {
            "image/png": "[encoded data removed]",
            "text/plain": [
              "<Figure size 864x864 with 2 Axes>"
            ]
          },
          "metadata": {
            "tags": []
          }
        }
      ]
    },
    {
      "cell_type": "code",
      "metadata": {
        "id": "GYFMI8KPljcX",
        "colab_type": "code",
        "colab": {}
      },
      "source": [
        ""
      ],
      "execution_count": 0,
      "outputs": []
    }
  ]
}